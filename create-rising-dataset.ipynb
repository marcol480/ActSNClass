{
 "cells": [
  {
   "cell_type": "code",
   "execution_count": 187,
   "metadata": {},
   "outputs": [],
   "source": [
    "import pandas as pd\n",
    "import numpy as np \n",
    "import glob\n",
    "import os\n",
    "import random\n",
    "import matplotlib.pyplot as plt \n",
    "\n",
    "from pandas.plotting import autocorrelation_plot\n",
    "from scipy.optimize import least_squares\n",
    "from scipy.interpolate import interp1d\n",
    "\n",
    "%matplotlib inline"
   ]
  },
  {
   "cell_type": "markdown",
   "metadata": {},
   "source": [
    "## Functions for data analysis"
   ]
  },
  {
   "cell_type": "code",
   "execution_count": 5,
   "metadata": {},
   "outputs": [],
   "source": [
    "def bazin(time, a, b, t0, tfall, trise):\n",
    "    \"\"\"\n",
    "    Parametric light curve function proposed by Bazin et al., 2009.\n",
    "\n",
    "    Parameters\n",
    "    ----------\n",
    "    time : np.array\n",
    "        exploratory variable (time of observation)\n",
    "    a: float\n",
    "        Normalization parameter\n",
    "    b: float\n",
    "        Shift parameter\n",
    "    t0: float\n",
    "        Time of maximum\n",
    "    tfall: float\n",
    "        Characteristic decline time\n",
    "    trise: float\n",
    "        Characteristic raise time\n",
    "\n",
    "    Returns\n",
    "    -------\n",
    "    array_like\n",
    "        response variable (flux)\n",
    "\n",
    "    \"\"\"\n",
    "    X = np.exp(-(time - t0) / tfall) / (1 + np.exp((time - t0) / trise))\n",
    "\n",
    "    return a * X + b"
   ]
  },
  {
   "cell_type": "code",
   "execution_count": 6,
   "metadata": {},
   "outputs": [],
   "source": [
    "def errfunc(params, time, flux):\n",
    "    \"\"\"\n",
    "    Absolute difference between theoretical and measured flux.\n",
    "\n",
    "    Parameters\n",
    "    ----------\n",
    "    params : list of float\n",
    "        light curve parameters: (a, b, t0, tfall, trise)\n",
    "    time : array_like\n",
    "        exploratory variable (time of observation)\n",
    "    flux : array_like\n",
    "        response variable (measured flux)\n",
    "\n",
    "    Returns\n",
    "    -------\n",
    "    diff : float\n",
    "        absolute difference between theoretical and observed flux\n",
    "\n",
    "    \"\"\"\n",
    "\n",
    "    return abs(flux - bazin(time, *params))"
   ]
  },
  {
   "cell_type": "code",
   "execution_count": 7,
   "metadata": {},
   "outputs": [],
   "source": [
    "def fit_scipy(time, flux):\n",
    "    \"\"\"\n",
    "    Find best-fit parameters using scipy.least_squares.\n",
    "\n",
    "    Parameters\n",
    "    ----------\n",
    "    time : array_like\n",
    "        exploratory variable (time of observation)\n",
    "    flux : array_like\n",
    "        response variable (measured flux)\n",
    "\n",
    "    Returns\n",
    "    -------\n",
    "    output : list of float\n",
    "        best fit parameter values\n",
    "\n",
    "    \"\"\"\n",
    "    flux = np.asarray(flux)\n",
    "    t0 = time[flux.argmax()] - time[0]\n",
    "    guess = [0, 0, t0, 40, -5]\n",
    "\n",
    "    result = least_squares(errfunc, guess, args=(time, flux), method='lm')\n",
    "\n",
    "    return result.x"
   ]
  },
  {
   "cell_type": "code",
   "execution_count": 8,
   "metadata": {},
   "outputs": [],
   "source": [
    "def delta_t(dataframe):\n",
    "    return dataframe.index -dataframe.index[0]"
   ]
  },
  {
   "cell_type": "code",
   "execution_count": 9,
   "metadata": {},
   "outputs": [],
   "source": [
    "def fsigmoid(x, a, b, c):\n",
    "    return c / (1.0 + np.exp(-a*(x-b)))\n"
   ]
  },
  {
   "cell_type": "code",
   "execution_count": 10,
   "metadata": {},
   "outputs": [],
   "source": [
    "def errfunc_sigmoid(params, time, flux):\n",
    "    \"\"\"\n",
    "    Absolute difference between theoretical and measured flux.\n",
    "\n",
    "    Parameters\n",
    "    ----------\n",
    "    params : list of float\n",
    "        light curve parameters: (a, b, t0, tfall, trise)\n",
    "    time : array_like\n",
    "        exploratory variable (time of observation)\n",
    "    flux : array_like\n",
    "        response variable (measured flux)\n",
    "\n",
    "    Returns\n",
    "    -------\n",
    "    diff : float\n",
    "        absolute difference between theoretical and observed flux\n",
    "\n",
    "    \"\"\"\n",
    "\n",
    "    return abs(flux - fsigmoid(time, *params))\n"
   ]
  },
  {
   "cell_type": "code",
   "execution_count": 11,
   "metadata": {},
   "outputs": [],
   "source": [
    "def fit_sigmoid(time, flux):\n",
    "    \"\"\"\n",
    "    Find best-fit parameters using scipy.least_squares.\n",
    "\n",
    "    Parameters\n",
    "    ----------\n",
    "    time : array_like\n",
    "        exploratory variable (time of observation)\n",
    "    flux : array_like\n",
    "        response variable (measured flux)\n",
    "\n",
    "    Returns\n",
    "    -------\n",
    "    output : list of float\n",
    "        best fit parameter values\n",
    "\n",
    "    \"\"\"\n",
    "    flux = np.asarray(flux)\n",
    "    t0 = time[flux.argmax()] - time[0]\n",
    "    guess = [1, 10, 500]\n",
    "\n",
    "    result = least_squares(errfunc_sigmoid, guess, args=(time, flux), method='lm')\n",
    "\n",
    "    return result.x\n"
   ]
  },
  {
   "cell_type": "markdown",
   "metadata": {},
   "source": [
    "## Random selection of ZTF data "
   ]
  },
  {
   "cell_type": "code",
   "execution_count": 12,
   "metadata": {},
   "outputs": [],
   "source": [
    "columns_to_keep = ['MJD', 'FLT', 'FLUXCAL', 'FLUXCALERR']\n",
    "fluxes = ['FLUXCAL', 'FLUXCALERR' ]\n"
   ]
  },
  {
   "cell_type": "code",
   "execution_count": 76,
   "metadata": {},
   "outputs": [
    {
     "name": "stdout",
     "output_type": "stream",
     "text": [
      "ZTF_pureIa/19_644_16NEWheaderZTF.dat\n"
     ]
    }
   ],
   "source": [
    "#path ='ZTF_onlyIa'\n",
    "path ='ZTF_pureIa'\n",
    "files = os.listdir(path)\n",
    "index = random.randrange(0, len(files))\n",
    "#print(files[index])\n",
    "\n",
    "file_name = path +'/'+ str(files[index])\n",
    "# ATT Now focus on this one! \n",
    "#file_name = path +'/' '19_679_126NEWheaderZTF.dat'\n",
    "file_name = path +'/' 'ZTF_pureIa/19_644_16NEWheaderZTF.dat'\n",
    "\n",
    "print(file_name)"
   ]
  },
  {
   "cell_type": "code",
   "execution_count": null,
   "metadata": {},
   "outputs": [],
   "source": [
    "#### Get sntype from header \n"
   ]
  },
  {
   "cell_type": "code",
   "execution_count": 77,
   "metadata": {},
   "outputs": [],
   "source": []
  },
  {
   "cell_type": "code",
   "execution_count": 78,
   "metadata": {},
   "outputs": [],
   "source": [
    "features_file = 'Sigmoid_features.dat'\n",
    "# add headers to files\n",
    "with open(features_file, 'w') as param_file:\n",
    "    param_file.write('id  type  ga gb gc ra rb rc\\n')\n"
   ]
  },
  {
   "cell_type": "markdown",
   "metadata": {},
   "source": [
    "#### Get sntype and snid from header \n"
   ]
  },
  {
   "cell_type": "code",
   "execution_count": 79,
   "metadata": {},
   "outputs": [],
   "source": [
    "header = pd.read_csv(file_name,  delimiter='\\s+', header=2) "
   ]
  },
  {
   "cell_type": "code",
   "execution_count": 81,
   "metadata": {},
   "outputs": [],
   "source": [
    "if int(header.columns[1]) == 101:\n",
    "    sntype = 'Ia'\n",
    "else:\n",
    "    sntype = 'nonIa'"
   ]
  },
  {
   "cell_type": "code",
   "execution_count": 82,
   "metadata": {},
   "outputs": [
    {
     "data": {
      "text/plain": [
       "'Ia'"
      ]
     },
     "execution_count": 82,
     "metadata": {},
     "output_type": "execute_result"
    }
   ],
   "source": [
    "sntype"
   ]
  },
  {
   "cell_type": "code",
   "execution_count": null,
   "metadata": {},
   "outputs": [],
   "source": [
    "SNID =  str(pd.read_csv(file_name, header=1).columns[0])[6:]"
   ]
  },
  {
   "cell_type": "markdown",
   "metadata": {},
   "source": [
    "#### Get data "
   ]
  },
  {
   "cell_type": "code",
   "execution_count": 83,
   "metadata": {},
   "outputs": [],
   "source": [
    "data_all = pd.read_csv(file_name, delimiter='\\t',  header=3) \n"
   ]
  },
  {
   "cell_type": "markdown",
   "metadata": {},
   "source": [
    "#### Filter g and r "
   ]
  },
  {
   "cell_type": "code",
   "execution_count": 85,
   "metadata": {},
   "outputs": [],
   "source": [
    "data = {} \n",
    "data_mjd = {}\n",
    "\n",
    "for filt in ['g', 'r']:\n",
    "\n",
    "    data[filt] =  data_all[columns_to_keep].loc[data_all['FLT'] == filt]\n",
    "\n",
    "    data_mjd[filt] = data[filt] .set_index(data[filt] ['MJD'])[fluxes]\n"
   ]
  },
  {
   "cell_type": "code",
   "execution_count": 186,
   "metadata": {},
   "outputs": [
    {
     "data": {
      "text/plain": [
       "<matplotlib.axes._subplots.AxesSubplot at 0x1321fad940>"
      ]
     },
     "execution_count": 186,
     "metadata": {},
     "output_type": "execute_result"
    },
    {
     "data": {
      "image/png": "[encoded data removed]",
      "text/plain": [
       "<Figure size 432x288 with 1 Axes>"
      ]
     },
     "metadata": {
      "needs_background": "light"
     },
     "output_type": "display_data"
    }
   ],
   "source": [
    "pd.concat(\n",
    "[  pd.DataFrame(  data_mjd[i]['FLUXCAL'] ) for i in ['r', 'g']], \n",
    "    axis = 1, keys = ['r', 'g']\n",
    ").plot(style='o-')"
   ]
  },
  {
   "cell_type": "markdown",
   "metadata": {},
   "source": [
    "#### Bazin's fit and derivative "
   ]
  },
  {
   "cell_type": "code",
   "execution_count": 86,
   "metadata": {},
   "outputs": [
    {
     "name": "stderr",
     "output_type": "stream",
     "text": [
      "/anaconda3/lib/python3.6/site-packages/ipykernel_launcher.py:26: RuntimeWarning: overflow encountered in exp\n"
     ]
    }
   ],
   "source": [
    "A = {}\n",
    "B = {}\n",
    "t0 = {}\n",
    "tfall = {}\n",
    "trise = {}\n",
    "\n",
    "error_mjd = {}\n",
    "deriv_mjd = {}\n",
    "deriv_bazin = {}\n",
    "\n",
    "for i in  ['r', 'g']:\n",
    "\n",
    "    [A[i], B[i], t0[i], tfall[i], trise[i]] = fit_scipy( delta_t(data_mjd[i]['FLUXCAL']) , \n",
    "                        #data_g_mjd['FLUXCAL'].ewm(2, min_periods=1).mean().values)\n",
    "                        data_mjd[i]['FLUXCAL'].values)\n",
    "\n",
    "    \n",
    "    error_mjd[i] =  data_mjd[i]['FLUXCALERR']\n",
    "    deriv_mjd[i] =  data_mjd[i]['FLUXCAL'].diff()\n",
    "\n",
    "    deriv_bazin[i] = np.diff(bazin(delta_t(data_mjd[i]['FLUXCAL']), \n",
    "                       A[i], B[i], t0[i], tfall[i], trise[i]) ) \n"
   ]
  },
  {
   "cell_type": "code",
   "execution_count": 143,
   "metadata": {},
   "outputs": [],
   "source": [
    "i = 'g'"
   ]
  },
  {
   "cell_type": "code",
   "execution_count": 144,
   "metadata": {},
   "outputs": [],
   "source": [
    "d_baz = pd.DataFrame(deriv_bazin[i], \n",
    "                     columns = {'der'}).set_index(delta_t(data_mjd[i]['FLUXCAL'])[:-1] )\n",
    "flux = pd.DataFrame( {\n",
    "    'flux' : data_mjd[i]['FLUXCAL'].values, \n",
    "    'err' : data_mjd[i]['FLUXCALERR'].values,\n",
    "    'label' : str(sntype)\n",
    "                      }   ).set_index(delta_t(data_mjd[i]['FLUXCAL']) )\n",
    "data_deriv = pd.concat([d_baz, flux ], axis=1 )#\n"
   ]
  },
  {
   "cell_type": "code",
   "execution_count": 196,
   "metadata": {},
   "outputs": [
    {
     "data": {
      "text/plain": [
       "<matplotlib.legend.Legend at 0x13227245f8>"
      ]
     },
     "execution_count": 196,
     "metadata": {},
     "output_type": "execute_result"
    },
    {
     "data": {
      "image/png": "[encoded data removed]",
      "text/plain": [
       "<Figure size 432x288 with 1 Axes>"
      ]
     },
     "metadata": {
      "needs_background": "light"
     },
     "output_type": "display_data"
    }
   ],
   "source": [
    "flux['flux'].plot(style='.-', title=str(i)+'-filter')\n",
    "plt.plot(delta_t(data_mjd[i]['FLUXCAL']), bazin(delta_t(data_mjd[i]['FLUXCAL']), \n",
    "                       A[i], B[i], t0[i], tfall[i], trise[i]), 'o-' , label='bazin fit' )\n",
    "\n",
    "plt.plot(delta_t(data_mjd[i]['FLUXCAL'])[:-1],  np.roll( np.diff( bazin(delta_t(data_mjd[i]['FLUXCAL']), \n",
    "                       A[i], B[i], t0[i], tfall[i], trise[i]) ), 1) , 'o-' , label='derivative bazin fit' )\n",
    "\n",
    "plt.axvline(x=t0[i], linestyle=':', color='k', label='$t_0$ Bazin fit')\n",
    "plt.legend()"
   ]
  },
  {
   "cell_type": "markdown",
   "metadata": {},
   "source": [
    "### compare to spline fit "
   ]
  },
  {
   "cell_type": "code",
   "execution_count": 216,
   "metadata": {},
   "outputs": [
    {
     "data": {
      "text/plain": [
       "<matplotlib.legend.Legend at 0x1322f84a58>"
      ]
     },
     "execution_count": 216,
     "metadata": {},
     "output_type": "execute_result"
    },
    {
     "data": {
      "image/png": "[encoded data removed]",
      "text/plain": [
       "<Figure size 432x288 with 1 Axes>"
      ]
     },
     "metadata": {
      "needs_background": "light"
     },
     "output_type": "display_data"
    }
   ],
   "source": [
    "\n",
    "x = flux['flux'][5:].index.values\n",
    "y = flux['flux'][5:].values\n",
    "xnew = np.linspace(flux['flux'].index.values[6], x[-1], num=101, endpoint=True)\n",
    "\n",
    "f2 = interp1d(x, y, kind='quadratic')\n",
    "\n",
    "plt.plot(x[5:], y[5:], 'o')\n",
    "\n",
    "\n",
    "plt.plot(xnew, f2(xnew), '.-', label ='quadratic spline fit')\n",
    "\n",
    "plt.plot(delta_t(data_mjd[i]['FLUXCAL'])[:-1], np.roll( np.diff( bazin(delta_t(data_mjd[i]['FLUXCAL']), \n",
    "                       A[i], B[i], t0[i], tfall[i], trise[i]) ), 1),\n",
    "         'o-',  label ='derivative bazin fit' )\n",
    "\n",
    "plt.plot( xnew[:-1], np.roll( np.diff(f2(xnew)), 1), '.-',\n",
    "         label ='derivative spline fit' )\n",
    "\n",
    "plt.legend()"
   ]
  },
  {
   "cell_type": "markdown",
   "metadata": {},
   "source": [
    "### detail"
   ]
  },
  {
   "cell_type": "code",
   "execution_count": 214,
   "metadata": {},
   "outputs": [
    {
     "data": {
      "text/plain": [
       "(160, 250)"
      ]
     },
     "execution_count": 214,
     "metadata": {},
     "output_type": "execute_result"
    },
    {
     "data": {
      "image/png": "[encoded data removed]",
      "text/plain": [
       "<Figure size 432x288 with 1 Axes>"
      ]
     },
     "metadata": {
      "needs_background": "light"
     },
     "output_type": "display_data"
    }
   ],
   "source": [
    "plt.plot(x[5:], y[5:], 'o') \n",
    "plt.plot( xnew[:-1], np.roll( np.diff(f2(xnew)), 1), '.-')\n",
    "plt.plot(delta_t(data_mjd[i]['FLUXCAL'])[5:-1], \n",
    "         np.roll( np.diff( bazin(delta_t(data_mjd[i]['FLUXCAL']), \n",
    "                       A[i], B[i], t0[i], tfall[i], trise[i]) )[5:], 1), 'o-' )\n",
    "plt.xlim(160,250)"
   ]
  },
  {
   "cell_type": "markdown",
   "metadata": {},
   "source": [
    "### Mask the negative derivative part "
   ]
  },
  {
   "cell_type": "code",
   "execution_count": 190,
   "metadata": {},
   "outputs": [],
   "source": [
    "## Looking at the opposite limit the negative derivative part \n",
    "#data_deriv.mask(d_baz['der'].shift(1) >= 0).dropna().plot(style='o-')"
   ]
  },
  {
   "cell_type": "code",
   "execution_count": 159,
   "metadata": {},
   "outputs": [],
   "source": [
    "export = data_deriv.mask(d_baz['der'].shift(2)<0)[ \n",
    "    ['flux', 'err', 'label' ] ].dropna()"
   ]
  },
  {
   "cell_type": "code",
   "execution_count": 221,
   "metadata": {},
   "outputs": [
    {
     "data": {
      "text/plain": [
       "<matplotlib.legend.Legend at 0x13236a6400>"
      ]
     },
     "execution_count": 221,
     "metadata": {},
     "output_type": "execute_result"
    },
    {
     "data": {
      "image/png": "[encoded data removed]",
      "text/plain": [
       "<Figure size 432x288 with 1 Axes>"
      ]
     },
     "metadata": {
      "needs_background": "light"
     },
     "output_type": "display_data"
    }
   ],
   "source": [
    "export['flux'].plot(style='.-', label='masked flux')\n",
    "plt.axvline(x=t0[i], linestyle=':', color='k', label='$t_0$ fit')\n",
    "plt.legend()"
   ]
  },
  {
   "cell_type": "code",
   "execution_count": 177,
   "metadata": {},
   "outputs": [],
   "source": [
    "#path_out = path + '/rising_part/'\n",
    "#file_name_out =  path_out + str(files[index][:-4])+'_rising.dat'\n",
    "#print(file_name_out)"
   ]
  },
  {
   "cell_type": "code",
   "execution_count": 178,
   "metadata": {},
   "outputs": [],
   "source": [
    "#export.to_csv(file_name_out, sep='\\t')"
   ]
  },
  {
   "cell_type": "markdown",
   "metadata": {},
   "source": [
    "## Sigmoid fit"
   ]
  },
  {
   "cell_type": "code",
   "execution_count": 224,
   "metadata": {},
   "outputs": [],
   "source": [
    "prova = export['flux']"
   ]
  },
  {
   "cell_type": "code",
   "execution_count": 225,
   "metadata": {},
   "outputs": [
    {
     "data": {
      "text/plain": [
       "MJD\n",
       "216.283    987.1268\n",
       "Name: flux, dtype: float64"
      ]
     },
     "execution_count": 225,
     "metadata": {},
     "output_type": "execute_result"
    }
   ],
   "source": [
    "prova.tail(1)"
   ]
  },
  {
   "cell_type": "code",
   "execution_count": 226,
   "metadata": {},
   "outputs": [
    {
     "name": "stderr",
     "output_type": "stream",
     "text": [
      "/anaconda3/lib/python3.6/site-packages/ipykernel_launcher.py:2: RuntimeWarning: overflow encountered in exp\n",
      "  \n"
     ]
    }
   ],
   "source": [
    "[aa, bb, cc] = fit_sigmoid( delta_t(prova) ,  prova.values)\n"
   ]
  },
  {
   "cell_type": "code",
   "execution_count": 227,
   "metadata": {},
   "outputs": [
    {
     "data": {
      "text/plain": [
       "[0.31424007645179053, 205.31512968540906, 1045.6303611131614]"
      ]
     },
     "execution_count": 227,
     "metadata": {},
     "output_type": "execute_result"
    }
   ],
   "source": [
    "[aa, bb, cc]"
   ]
  },
  {
   "cell_type": "code",
   "execution_count": 228,
   "metadata": {},
   "outputs": [],
   "source": [
    "xx = prova.index.values"
   ]
  },
  {
   "cell_type": "code",
   "execution_count": 229,
   "metadata": {},
   "outputs": [
    {
     "data": {
      "text/plain": [
       "array([9.98761243e-26, 2.50949354e-25, 8.83015462e-25, 1.49506337e-23,\n",
       "       3.86074197e-23, 1.84596344e-22, 8.35061382e-02, 2.10135708e-01,\n",
       "       1.71596229e+01, 4.29281524e+01, 1.03548819e+02, 2.26755820e+02,\n",
       "       6.71735805e+02, 8.63508468e+02, 1.01334958e+03])"
      ]
     },
     "execution_count": 229,
     "metadata": {},
     "output_type": "execute_result"
    }
   ],
   "source": [
    "fsigmoid(xx, aa, bb, cc)\n"
   ]
  },
  {
   "cell_type": "code",
   "execution_count": 239,
   "metadata": {},
   "outputs": [
    {
     "data": {
      "text/plain": [
       "<matplotlib.legend.Legend at 0x13230389b0>"
      ]
     },
     "execution_count": 239,
     "metadata": {},
     "output_type": "execute_result"
    },
    {
     "data": {
      "image/png": "[encoded data removed]",
      "text/plain": [
       "<Figure size 432x288 with 1 Axes>"
      ]
     },
     "metadata": {
      "needs_background": "light"
     },
     "output_type": "display_data"
    }
   ],
   "source": [
    "plt.plot(xx, fsigmoid(xx, aa, bb, cc), '.-' , \n",
    "         label ='sigmoid fit $\\dfrac{c}{(1+e^{-a(x-b)})} $')\n",
    "plt.plot(xx[:-2], \n",
    "         np.diff(np.diff(fsigmoid(xx, aa, bb, cc)) ), label='2nd derivative sigmoid fit' )\n",
    "\n",
    "prova.plot(style = 'o:', legend='rising data set')\n",
    "plt.axvline(x=bb, linestyle=':', color='k', label ='b from fit')\n",
    "\n",
    "plt.axhline(y=cc, linestyle=':', color='red', label ='c from fit')\n",
    "plt.legend()"
   ]
  },
  {
   "cell_type": "markdown",
   "metadata": {},
   "source": [
    "### To do next (points discussed with Emille)\n",
    "\n",
    "* Consider longer classification runs (N =1000 step at least) with current features a, b, c\n",
    "\n",
    "* in presence of a season gap, like here, neglect all the data before the gap\n",
    "\n",
    "* Instead of a, b, c pass the whole sigmoid curve to the Random Forest classifier. \n",
    "  Possibly also add extra column with Ndays to get from 5% of the max to the max. "
   ]
  },
  {
   "cell_type": "code",
   "execution_count": null,
   "metadata": {},
   "outputs": [],
   "source": []
  }
 ],
 "metadata": {
  "kernelspec": {
   "display_name": "Python 3",
   "language": "python",
   "name": "python3"
  },
  "language_info": {
   "codemirror_mode": {
    "name": "ipython",
    "version": 3
   },
   "file_extension": ".py",
   "mimetype": "text/x-python",
   "name": "python",
   "nbconvert_exporter": "python",
   "pygments_lexer": "ipython3",
   "version": "3.6.10"
  },
  "toc": {
   "base_numbering": 1,
   "nav_menu": {},
   "number_sections": true,
   "sideBar": true,
   "skip_h1_title": false,
   "title_cell": "Table of Contents",
   "title_sidebar": "Contents",
   "toc_cell": false,
   "toc_position": {},
   "toc_section_display": true,
   "toc_window_display": true
  }
 },
 "nbformat": 4,
 "nbformat_minor": 2
}
